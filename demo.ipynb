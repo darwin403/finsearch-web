{
 "cells": [
  {
   "cell_type": "code",
   "execution_count": null,
   "id": "13320136",
   "metadata": {},
   "outputs": [
    {
     "name": "stdout",
     "output_type": "stream",
     "text": [
      "Q4 2024\n",
      "Q1 2024\n"
     ]
    }
   ],
   "source": [
    "import { parse, subDays, getQuarter, getYear } from \"date-fns\";\n",
    "\n",
    "function getPreviousQuarterString(monthYearString: str) {\n",
    "  const date = parse(monthYearString, \"MMM yyyy\", new Date());\n",
    "  const previousQuarterDate = subDays(date, 30);\n",
    "  const quarter = getQuarter(previousQuarterDate);\n",
    "  const year = getYear(previousQuarterDate);\n",
    "\n",
    "  return `Q${quarter} ${year}`;\n",
    "}\n",
    "\n",
    "// Example usage\n",
    "console.log(getPreviousQuarterString(\"Jan 2025\")); // \"Q4 2023\"\n",
    "console.log(getPreviousQuarterString(\"Apr 2024\")); // \"Q1 2024\"\n",
    "// Example usage\n",
    "// const date = new Date(\"2023-03-15\");\n",
    "// console.log(formatQuarterly(date)); // Output: \"Q2 2023\"\n"
   ]
  }
 ],
 "metadata": {
  "kernelspec": {
   "display_name": "Deno",
   "language": "typescript",
   "name": "deno"
  },
  "language_info": {
   "codemirror_mode": "typescript",
   "file_extension": ".ts",
   "mimetype": "text/x.typescript",
   "name": "typescript",
   "nbconvert_exporter": "script",
   "pygments_lexer": "typescript",
   "version": "5.7.3"
  }
 },
 "nbformat": 4,
 "nbformat_minor": 5
}
